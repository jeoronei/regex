{
  "nbformat": 4,
  "nbformat_minor": 2,
  "metadata": {
    "orig_nbformat": 4,
    "language_info": {
      "name": "python",
      "version": "3.8.0",
      "mimetype": "text/x-python",
      "codemirror_mode": {
        "name": "ipython",
        "version": 3
      },
      "pygments_lexer": "ipython3",
      "nbconvert_exporter": "python",
      "file_extension": ".py"
    },
    "kernelspec": {
      "name": "python3",
      "display_name": "Python 3.8.0 64-bit"
    },
    "interpreter": {
      "hash": "87dff962632f26eb193d0fa4a17379a710745e247cab34ad5f6c3244b3a10823"
    },
    "colab": {
      "name": "regex_group.ipynb",
      "provenance": [],
      "collapsed_sections": []
    }
  },
  "cells": [
    {
      "cell_type": "markdown",
      "source": [
        "# Grupos"
      ],
      "metadata": {
        "id": "jLZK2QBsb4AT"
      }
    },
    {
      "cell_type": "markdown",
      "source": [
        "## Encontrando palavras\r\n",
        "\r\n",
        "Uma forma fácil de encontrar uma palavra é utilizando <b>Word Boundary</b> `\\b`.\r\n",
        "\r\n",
        "<b>Word Boundary</b> qualificam os limites de palavras de três formas diferentes:\r\n",
        "\r\n",
        "► Antes do primeiro caractere de uma string, se o primeiro caractere for um caractere de palavra (\\w).\r\n",
        "\r\n",
        "► Entre dois caracteres na string, onde um é um caractere de palavra (\\w) e o outro não é um caractere de palavra ([^\\w]).\r\n",
        "\r\n",
        "► Após o último caractere da string, se o último caractere for um caractere de palavra (\\w).\r\n",
        "\r\n",
        "<center>\r\n",
        "\r\n",
        "![intro_1](https://jeoronei.github.io/regex/images/grupos/group_1.png)\r\n",
        "\r\n",
        "</center>\r\n",
        "\r\n",
        "Na imagem acima é possível visualizar que a expressão regular `\"\\bgato\\b\"` encontrou 4 palavras nas strings."
      ],
      "metadata": {
        "id": "UpAp79uGb4AV"
      }
    },
    {
      "cell_type": "markdown",
      "source": [
        "## Combinações alternativas (OR)\r\n",
        "\r\n",
        "Utilize o caractere | para gerar um padrão que corresponde com diferentes elementos. Quando usado dentro de uma classe, ele corresponderá aos caracteres; quando usado dentro de um grupo, corresponderá a expressões inteiras (ou seja, tudo à esquerda ou tudo à direita da barra vertical). Devemos usar parênteses para limitar o uso de alternâncias.\r\n",
        "\r\n",
        "<center>\r\n",
        "\r\n",
        "![intro_1](https://jeoronei.github.io/regex/images/grupos/group_2.png)\r\n",
        "\r\n",
        "</center>\r\n",
        "\r\n",
        "Na imagem acima é possível visualizar que a expressão regular `\"(gatos|\\(gato\\))\"` encontrou 2 palavras <b>gatos</b> ou <b>(gatos)</b>."
      ],
      "metadata": {
        "id": "1GMuKysbb4AX"
      }
    },
    {
      "cell_type": "markdown",
      "source": [
        "## Backreference\r\n",
        "\r\n",
        "Esta ferramenta (\\1 faz referência ao primeiro grupo de captura) corresponde ao mesmo texto anteriormente correspondido pelo grupo de captura.\r\n",
        "\r\n",
        "<center>\r\n",
        "\r\n",
        "![intro_1](https://jeoronei.github.io/regex/images/grupos/group_3.png)\r\n",
        "\r\n",
        "</center>\r\n",
        "\r\n",
        "Na imagem acima é possível visualizar que a expressão regular `\"r(\\w)g\\1x\"` faz match com a palavra <b>regex</b> e não com a palavra <b>regax</b>, isso se deve ao fato de `\\1` fazer referencia ao primeiro caracter <b>e</b> que foi capturado pelo grupo `(\\w)`. Em outras palavras `\\1` faz uma referencia ao caracter encontrado pelo primeiro grupo."
      ],
      "metadata": {
        "id": "9F4qu_Exb4AY"
      }
    },
    {
      "cell_type": "markdown",
      "source": [
        "## Lookahead\r\n",
        "### Lookahead positivo\r\n",
        "\r\n",
        "regex_1(?=regex_2)\r\n",
        "O lookahead (?=) Afirma que regex_1 deve ser seguido imediatamente pelo regex_2. Os caracteres contidos no regex_2 serão ignorados e não serão trazidos na consulta.\r\n",
        "\r\n",
        "<center>\r\n",
        "\r\n",
        "![intro_1](https://jeoronei.github.io/regex/images/grupos/group_4.png)\r\n",
        "\r\n",
        "</center>\r\n",
        "\r\n",
        "### Lookahead negativo\r\n",
        "\r\n",
        "regex_1(?!regex_2)\r\n",
        "O lookahead negativo (?!) Afirma que regex_1 não deve ser seguido imediatamente pelo regex_2. Os caracteres contidos no regex_2 serão ignorados e não serão trazidos na consulta.\r\n",
        "\r\n",
        "<center>\r\n",
        "\r\n",
        "![intro_1](https://jeoronei.github.io/regex/images/grupos/group_5.png)\r\n",
        "\r\n",
        "</center>"
      ],
      "metadata": {
        "id": "vtpne6Xpb4AY"
      }
    },
    {
      "cell_type": "markdown",
      "source": [
        "## Lookbehind\r\n",
        "### Lookbehind positivo\r\n",
        "\r\n",
        "(?<=regex_1)regex_2\r\n",
        "O lookbehind (?<=) Afirma que regex_2 deve ser seguido imediatamente pelo regex_1. Os caracteres contidos no regex_1 serão ignorados e não serão trazidos na consulta.\r\n",
        "\r\n",
        "<center>\r\n",
        "\r\n",
        "![intro_1](https://jeoronei.github.io/regex/images/grupos/group_6.png)\r\n",
        "\r\n",
        "</center>\r\n",
        "\r\n",
        "### Lookbehind negativo\r\n",
        "\r\n",
        "(?<!regex_1)regex_2\r\n",
        "O lookbehind negativo (?<!) Afirma que regex_2 não deve ser seguido imediatamente pelo regex_1. Os caracteres contidos no regex_1 serão ignorados e não serão trazidos na consulta.\r\n",
        "\r\n",
        "<center>\r\n",
        "\r\n",
        "![intro_1](https://jeoronei.github.io/regex/images/grupos/group_7.png)\r\n",
        "\r\n",
        "</center>"
      ],
      "metadata": {
        "id": "NRYDtieAb4AZ"
      }
    },
    {
      "cell_type": "markdown",
      "source": [
        "## Exercícios para o primeiro módulo :)"
      ],
      "metadata": {
        "id": "3YYgodcJb4Aa"
      }
    },
    {
      "cell_type": "code",
      "execution_count": 1,
      "source": [
        "import re"
      ],
      "outputs": [],
      "metadata": {
        "id": "dSYujfEib4Aa"
      }
    },
    {
      "cell_type": "code",
      "execution_count": 2,
      "source": [
        "# Exercicio 1\r\n",
        "# TASK: Você tem uma string S.\r\n",
        "# Sua tarefa é escrever uma regex que irá combinar palavras que começam com vogal (a, e, i, o, u, A, E, I, O ou U).\r\n",
        "# A palavra pode ter qualquer comprimento. \r\n",
        "# A palavra deve consistir apenas em letras (maiúsculas e minúsculas) apenas.\r\n",
        "# A forma mais facil de fazer isso é utilizando Word Boundary\r\n",
        "\r\n",
        "def exercicio_1():\r\n",
        "    return r\"___________\" # Sua Expressão Regular aqui"
      ],
      "outputs": [],
      "metadata": {
        "id": "LTpM8CkCb4Ab"
      }
    },
    {
      "cell_type": "code",
      "execution_count": 3,
      "source": [
        "# Exercicio 2\r\n",
        "# TASK: Dada uma string S, escreva um RegEx que corresponda:\r\n",
        "# A strinf deve começar com o Sr., Sra., Sra., Dr. ou Dra..\r\n",
        "# O resto da string deve conter apenas uma ou mais letras (maiúsculas e minúsculas).\r\n",
        "\r\n",
        "def exercicio_2():\r\n",
        "    return r\"___________\" # Sua Expressão Regular aqui"
      ],
      "outputs": [],
      "metadata": {
        "id": "9S71IR89b4Ac"
      }
    },
    {
      "cell_type": "code",
      "execution_count": 4,
      "source": [
        "# Exercicio 3\r\n",
        "# TASK: Dada uma string S\r\n",
        "# Escreva uma expressão regular que corresponda a todas as ocorrências de \"o\" seguido imediatamente por \"oo\".\r\n",
        "\r\n",
        "def exercicio_3():\r\n",
        "    return r\"___________\" # Sua Expressão Regular aqui"
      ],
      "outputs": [],
      "metadata": {
        "id": "P5-RHHchea-I"
      }
    },
    {
      "cell_type": "code",
      "execution_count": 5,
      "source": [
        "# Exercicio 4\r\n",
        "# TASK: Dada uma string S\r\n",
        "# Escreva uma expressão regular que corresponda a todas as ocorrências que não são imediatamente seguidos pelo mesmo caractere.\r\n",
        "\r\n",
        "def exercicio_4():\r\n",
        "    return r\"___________\" # Sua Expressão Regular aqui"
      ],
      "outputs": [],
      "metadata": {
        "id": "xll9ET5gg80_"
      }
    },
    {
      "cell_type": "code",
      "execution_count": 6,
      "source": [
        "# Exercicio 5\r\n",
        "# TASK: Dada uma string S\r\n",
        "# Escreva uma expressão regular que corresponda a todas as ocorrências de dígito que são imediatamente precedidas por números ímpar.\r\n",
        "\r\n",
        "def exercicio_5():\r\n",
        "    return r\"___________\" # Sua Expressão Regular aqui"
      ],
      "outputs": [],
      "metadata": {
        "id": "FKXJoDW9hxXr"
      }
    },
    {
      "cell_type": "code",
      "execution_count": 7,
      "source": [
        "# Exercicio 6\r\n",
        "# TASK: Dada uma string S\r\n",
        "# Escreva uma expressão regular que corresponda a todas as ocorrências de caracteres que não são imediatamente precedidos por vogais (a, e, i, u, o, A, E, I, O, U).\r\n",
        "\r\n",
        "def exercicio_6():\r\n",
        "    return r\"___________\" # Sua Expressão Regular aqui"
      ],
      "outputs": [],
      "metadata": {
        "id": "w0gfcNfAkM8o"
      }
    },
    {
      "cell_type": "markdown",
      "source": [
        "# Aqui começa as validações dos exercicios\r\n",
        "Após escrever as expressões regulares, basta rodar os testes abaixo para validar se "
      ],
      "metadata": {
        "id": "6w9AHhvDb4Ac"
      }
    },
    {
      "cell_type": "code",
      "execution_count": 8,
      "source": [
        "assert bool(re.search(exercicio_1(), 'Found any match?')), 'Exercicio 1 com erro'\r\n",
        "\r\n",
        "print('Exercicio 1 correto')"
      ],
      "outputs": [
        {
          "output_type": "stream",
          "name": "stdout",
          "text": [
            "Exercicio 1 correto\n"
          ]
        }
      ],
      "metadata": {
        "id": "m6DEbMt-b4Ad",
        "outputId": "81ac5ed4-55f8-421a-91da-1802e827b879"
      }
    },
    {
      "cell_type": "code",
      "execution_count": 9,
      "source": [
        "assert bool(re.search(exercicio_2(), 'Mr.DOSHI')), 'Exercicio 2 com erro'\r\n",
        "\r\n",
        "print('Exercicio 2 correto')"
      ],
      "outputs": [
        {
          "output_type": "stream",
          "name": "stdout",
          "text": [
            "Exercicio 2 correto\n"
          ]
        }
      ],
      "metadata": {
        "id": "LUqjE07Vb4Ae",
        "outputId": "b7776fb3-0e64-4c41-c96d-5957d5aae35a"
      }
    },
    {
      "cell_type": "code",
      "execution_count": 10,
      "source": [
        "assert len(re.findall(exercicio_3(), 'gooooo!')) == 3, 'Exercicio 3 com erro'\r\n",
        "\r\n",
        "print('Exercicio 3 correto')"
      ],
      "outputs": [
        {
          "output_type": "stream",
          "name": "stdout",
          "text": [
            "Exercicio 3 correto\n"
          ]
        }
      ],
      "metadata": {
        "colab": {
          "base_uri": "https://localhost:8080/"
        },
        "id": "75ONDXwEfIKs",
        "outputId": "d52e103a-89df-47c6-861a-0a260e786ae6"
      }
    },
    {
      "cell_type": "code",
      "execution_count": 11,
      "source": [
        "assert len(re.findall(exercicio_4(), 'gooooo')) == 2, 'Exercicio 4 com erro'\r\n",
        "\r\n",
        "print('Exercicio 4 correto')"
      ],
      "outputs": [
        {
          "output_type": "stream",
          "name": "stdout",
          "text": [
            "Exercicio 4 correto\n"
          ]
        }
      ],
      "metadata": {
        "colab": {
          "base_uri": "https://localhost:8080/"
        },
        "id": "jqGKu7SXhTIV",
        "outputId": "d3aa6f47-6671-4c7d-9baa-03dbf779d140"
      }
    },
    {
      "cell_type": "code",
      "execution_count": 12,
      "source": [
        "assert len(re.findall(exercicio_5(), '123Go!')) == 1, 'Exercicio 5 com erro'\r\n",
        "\r\n",
        "print('Exercicio 5 correto')"
      ],
      "outputs": [
        {
          "output_type": "stream",
          "name": "stdout",
          "text": [
            "Exercicio 5 correto\n"
          ]
        }
      ],
      "metadata": {
        "colab": {
          "base_uri": "https://localhost:8080/"
        },
        "id": "1oLxww7yh42o",
        "outputId": "289979f5-37a3-4f40-fe74-f004f994f979"
      }
    },
    {
      "cell_type": "code",
      "execution_count": 13,
      "source": [
        "assert len(re.findall(exercicio_6(), '1o1s')) == 3, 'Exercicio 6 com erro'\r\n",
        "\r\n",
        "print('Exercicio 6 correto')"
      ],
      "outputs": [
        {
          "output_type": "stream",
          "name": "stdout",
          "text": [
            "Exercicio 6 correto\n"
          ]
        }
      ],
      "metadata": {
        "colab": {
          "base_uri": "https://localhost:8080/"
        },
        "id": "wjOkm7NAkvBu",
        "outputId": "c08d65f3-3e54-474e-baba-4874718ceff0"
      }
    },
    {
      "cell_type": "markdown",
      "source": [
        "## Referencias\r\n",
        "\r\n",
        "\"Exercícios retidados do hackerrank\", https://www.hackerrank.com/"
      ],
      "metadata": {}
    }
  ]
}