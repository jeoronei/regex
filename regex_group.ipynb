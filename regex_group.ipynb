{
 "cells": [
  {
   "cell_type": "markdown",
   "source": [
    "# Grupos"
   ],
   "metadata": {}
  },
  {
   "cell_type": "markdown",
   "source": [
    "## Encontrando palavras\n",
    "\n",
    "Uma forma fácil de encontrar uma palavra é utilizando <b>Word Boundary</b> `\\b`.\n",
    "\n",
    "<b>Word Boundary</b> qualificam os limites de palavras de três formas diferentes:\n",
    "\n",
    "► Antes do primeiro caractere de uma string, se o primeiro caractere for um caractere de palavra (\\w).\n",
    "\n",
    "► Entre dois caracteres na string, onde um é um caractere de palavra (\\w) e o outro não é um caractere de palavra ([^\\w]).\n",
    "\n",
    "► Após o último caractere da string, se o último caractere for um caractere de palavra (\\w).\n",
    "\n",
    "<center>\n",
    "\n",
    "![intro_1](images/grupos/group_1.png)\n",
    "\n",
    "</center>\n",
    "\n",
    "Na imagem acima é possível visualizar que a expressão regular `\"\\bgato\\b\"` encontrou 4 palavras nas strings."
   ],
   "metadata": {}
  },
  {
   "cell_type": "markdown",
   "source": [
    "## Combinações alternativas (OR)\n",
    "\n",
    "Utilize o caractere | para gerar um padrão que corresponde com diferentes elementos. Quando usado dentro de uma classe, ele corresponderá aos caracteres; quando usado dentro de um grupo, corresponderá a expressões inteiras (ou seja, tudo à esquerda ou tudo à direita da barra vertical). Devemos usar parênteses para limitar o uso de alternâncias.\n",
    "\n",
    "<center>\n",
    "\n",
    "![intro_1](images/grupos/group_2.png)\n",
    "\n",
    "</center>\n",
    "\n",
    "Na imagem acima é possível visualizar que a expressão regular `\"(gatos|\\(gato\\))\"` encontrou 2 palavras <b>gatos</b> ou <b>(gatos)</b>."
   ],
   "metadata": {}
  },
  {
   "cell_type": "markdown",
   "source": [
    "## Backreference\n",
    "\n",
    "Esta ferramenta (\\ 1 faz referência ao primeiro grupo de captura) corresponde ao mesmo texto anteriormente correspondido pelo grupo de captura.\n",
    "\n",
    "<center>\n",
    "\n",
    "![intro_1](images/grupos/group_3.png)\n",
    "\n",
    "</center>\n",
    "\n",
    "Na imagem acima é possível visualizar que a expressão regular `\"r(\\w)g\\1x\"` faz match com a palavra <b>regex</b> e não com a palavra <b>regax</b>, isso se deve ao fato de `\\1` fazer referencia ao primeiro caracter <b>e</b> que foi capturado pelo grupo `(\\w)`. Em outras palavras `\\1` faz uma referencia ao caracter encontrado pelo primeiro grupo."
   ],
   "metadata": {}
  },
  {
   "cell_type": "markdown",
   "source": [
    "## Lookahead\n",
    "### Lookahead positivo\n",
    "\n",
    "regex_1(?=regex_2)\n",
    "O lookahead (?=) Afirma que regex_1 deve ser seguido imediatamente pelo regex_2. Os caracteres contidos no regex_2 serão ignorados e não serão trazidos na consulta.\n",
    "\n",
    "<center>\n",
    "\n",
    "![intro_1](images/grupos/group_4.png)\n",
    "\n",
    "</center>\n",
    "\n",
    "### Lookahead negativo\n",
    "\n",
    "regex_1(?!regex_2)\n",
    "O lookahead negativo (?!) Afirma que regex_1 não deve ser seguido imediatamente pelo regex_2. Os caracteres contidos no regex_2 serão ignorados e não serão trazidos na consulta.\n",
    "\n",
    "<center>\n",
    "\n",
    "![intro_1](images/grupos/group_5.png)\n",
    "\n",
    "</center>"
   ],
   "metadata": {}
  },
  {
   "cell_type": "markdown",
   "source": [
    "## Lookbehind\n",
    "### Lookbehind positivo\n",
    "\n",
    "(?<=regex_1)regex_2\n",
    "O lookbehind (?<=) Afirma que regex_2 deve ser seguido imediatamente pelo regex_1. Os caracteres contidos no regex_1 serão ignorados e não serão trazidos na consulta.\n",
    "\n",
    "<center>\n",
    "\n",
    "![intro_1](images/grupos/group_6.png)\n",
    "\n",
    "</center>\n",
    "\n",
    "### Lookbehind negativo\n",
    "\n",
    "(?<!regex_1)regex_2\n",
    "O lookbehind negativo (?<!) Afirma que regex_2 não deve ser seguido imediatamente pelo regex_1. Os caracteres contidos no regex_1 serão ignorados e não serão trazidos na consulta.\n",
    "\n",
    "<center>\n",
    "\n",
    "![intro_1](images/grupos/group_7.png)\n",
    "\n",
    "</center>"
   ],
   "metadata": {}
  },
  {
   "cell_type": "markdown",
   "source": [
    "## Exercícios para o primeiro módulo :)"
   ],
   "metadata": {}
  },
  {
   "cell_type": "code",
   "execution_count": 2,
   "source": [
    "import re"
   ],
   "outputs": [],
   "metadata": {}
  },
  {
   "cell_type": "code",
   "execution_count": 3,
   "source": [
    "# Exercicio 1\n",
    "# TASK: Você tem uma string S.\n",
    "# Sua tarefa é escrever uma regex que irá combinar palavras que começam com vogal (a, e, i, o, u, A, E, I, O ou U).\n",
    "# A palavra pode ter qualquer comprimento. \n",
    "# A palavra deve consistir apenas em letras (maiúsculas e minúsculas) apenas.\n",
    "# A forma mais facil de fazer isso é utilizando Word Boundary\n",
    "\n",
    "def exercicio_1():\n",
    "    return r\"\\b[aeiouAEIOU][A-Za-z]*\\b\" # Sua Expressão Regular aqui"
   ],
   "outputs": [],
   "metadata": {}
  },
  {
   "cell_type": "code",
   "execution_count": 8,
   "source": [
    "# Exercicio 2\n",
    "# TASK: Você tem uma string S.\n",
    "# Dada uma string S, escreva um RegEx que corresponda:\n",
    "# A strinf deve começar com o Sr., Sra., Sra., Dr. ou Dra..\n",
    "# O resto da string deve conter apenas uma ou mais letras (maiúsculas e minúsculas).\n",
    "\n",
    "def exercicio_2():\n",
    "    return r\"^(Mr|Mrs|Ms|Dr|Er)\\.[A-Za-z]{1,}$\" # Sua Expressão Regular aqui"
   ],
   "outputs": [],
   "metadata": {}
  },
  {
   "cell_type": "markdown",
   "source": [
    "# Aqui começa as validações dos exercicios\n",
    "Após escrever as expressões regulares, basta rodar os testes abaixo para validar se "
   ],
   "metadata": {}
  },
  {
   "cell_type": "code",
   "execution_count": 5,
   "source": [
    "assert bool(re.search(exercicio_1(), 'Found any match?')), 'Exercicio 1 com erro'\n",
    "\n",
    "print('Exercicio 1 correto')"
   ],
   "outputs": [
    {
     "output_type": "stream",
     "name": "stdout",
     "text": [
      "Exercicio 1 correto\n"
     ]
    }
   ],
   "metadata": {}
  },
  {
   "cell_type": "code",
   "execution_count": 9,
   "source": [
    "assert bool(re.search(exercicio_2(), 'Mr.DOSHI')), 'Exercicio 2 com erro'\n",
    "\n",
    "print('Exercicio 2 correto')"
   ],
   "outputs": [
    {
     "output_type": "stream",
     "name": "stdout",
     "text": [
      "Exercicio 2 correto\n"
     ]
    }
   ],
   "metadata": {}
  }
 ],
 "metadata": {
  "orig_nbformat": 4,
  "language_info": {
   "name": "python",
   "version": "3.8.5",
   "mimetype": "text/x-python",
   "codemirror_mode": {
    "name": "ipython",
    "version": 3
   },
   "pygments_lexer": "ipython3",
   "nbconvert_exporter": "python",
   "file_extension": ".py"
  },
  "kernelspec": {
   "name": "python3",
   "display_name": "Python 3.8.5 64-bit"
  },
  "interpreter": {
   "hash": "916dbcbb3f70747c44a77c7bcd40155683ae19c65e1c03b4aa3499c5328201f1"
  }
 },
 "nbformat": 4,
 "nbformat_minor": 2
}