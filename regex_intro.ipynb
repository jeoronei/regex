{
 "cells": [
  {
   "cell_type": "code",
   "execution_count": 70,
   "source": [
    "import re"
   ],
   "outputs": [],
   "metadata": {}
  },
  {
   "cell_type": "markdown",
   "source": [
    "# Introdução\n",
    "\n",
    "As expressões regulares são extremamente úteis na extração de informações de texto, como: código, arquivos de log, planilhas, documentos, etc.\n",
    "\n",
    "Podemos combinar uma string específica *X* em uma string de teste *S* criando nosso padrão regex *X*. Este é um dos padrões mais simples."
   ],
   "metadata": {}
  },
  {
   "cell_type": "markdown",
   "source": [
    "## Consultando uma palavra específica\r\n",
    "\r\n",
    "\r\n",
    "Uma expressão regular é uma sequência de caracteres que define um padrão de pesquisa. É usado principalmente para capturar caracteres em uma string.\r\n",
    "\r\n",
    "<center>\r\n",
    "\r\n",
    "![intro_1](https://jeoronei.github.io/regex/images/intro/intro_1.png)\r\n",
    "\r\n",
    "</center>\r\n",
    "\r\n",
    "Na imagem acima é possível visualizar que a nossa expressão regular `\"de\"` encontrou 5 trechos na string que atendem a necessidade."
   ],
   "metadata": {}
  },
  {
   "cell_type": "code",
   "execution_count": 71,
   "source": [
    "string_1 = \"O tempo perguntou ao tempo quanto tempo o tempo tem, o tempo respondeu ao tempo que o tempo tem o tempo que o tempo tem.\"\r\n",
    "\r\n",
    "re.findall(r'tempo', string_1)"
   ],
   "outputs": [
    {
     "output_type": "execute_result",
     "data": {
      "text/plain": [
       "['tempo',\n",
       " 'tempo',\n",
       " 'tempo',\n",
       " 'tempo',\n",
       " 'tempo',\n",
       " 'tempo',\n",
       " 'tempo',\n",
       " 'tempo',\n",
       " 'tempo']"
      ]
     },
     "metadata": {},
     "execution_count": 71
    }
   ],
   "metadata": {}
  },
  {
   "cell_type": "markdown",
   "source": [
    "## Ponto\r\n",
    "\r\n",
    "O ponto (.) corresponde a qualquer caracter (exceto para uma nova linha), caso você queira identificar se a string possui um (.) deve se utilizar `\\.`.\r\n",
    "\r\n",
    "<center>\r\n",
    "\r\n",
    "![intro_2](https://jeoronei.github.io/regex/images/intro/intro_2.png)\r\n",
    "</br>\r\n",
    "![intro_3](https://jeoronei.github.io/regex/images/intro/intro_3.png)\r\n",
    "\r\n",
    "</center>\r\n",
    "\r\n",
    "Nas imagens acima é possível visualizar que a nossa expressão regular `\"A.C.D.D.\"` faz match apenas com o inicio da string, isso se deve pelo fato de (.) ser um caracter coringa, então naquele contexto ele assume o valor de \"+\" \"=\" e \"E\". "
   ],
   "metadata": {}
  },
  {
   "cell_type": "code",
   "execution_count": 72,
   "source": [
    "string_2 = \"A+B+C+D=DE\"\r\n",
    "\r\n",
    "re.findall(r'A.B.C.D.D.', string_2)"
   ],
   "outputs": [
    {
     "output_type": "execute_result",
     "data": {
      "text/plain": [
       "['A+B+C+D=DE']"
      ]
     },
     "metadata": {},
     "execution_count": 72
    }
   ],
   "metadata": {}
  },
  {
   "cell_type": "markdown",
   "source": [
    "## Espaço e não espaço\r\n",
    "\r\n",
    "\\s corresponde a qualquer espaço em branco [\\r \\n \\t \\f].\r\n",
    "\r\n",
    "<center>\r\n",
    "\r\n",
    "![space](https://jeoronei.github.io/regex/images/intro/intro_8.png)\r\n",
    "\r\n",
    "</center>\r\n",
    "\r\n",
    "Na imagem acima é possível visualizar que a nossa expressão regular `\"\\s\"` captura todos os espaços em branco da string.\r\n",
    "\r\n",
    "A expressão \\S corresponde a não espaços em branco [^\\r \\n \\t \\f].\r\n",
    "\r\n",
    "<center>\r\n",
    "\r\n",
    "![non-space](https://jeoronei.github.io/regex/images/intro/intro_9.png)\r\n",
    "\r\n",
    "</center>\r\n",
    "\r\n",
    "Diferente de `\"\\s\"`, `\"\\S\"` vai trazer todos os caracteres que forem diferentes de \\r, \\n, \\t, \\f. Na imagem acima é possível verificar que `\"\\S\"` busca todos os caracteres exceto os espaços em branco."
   ],
   "metadata": {}
  },
  {
   "cell_type": "code",
   "execution_count": 73,
   "source": [
    "string_3 = \"Que a Força esteja com você.\"\r\n",
    "re.findall(r'\\s', string_3)"
   ],
   "outputs": [
    {
     "output_type": "execute_result",
     "data": {
      "text/plain": [
       "[' ', ' ', ' ', ' ', ' ']"
      ]
     },
     "metadata": {},
     "execution_count": 73
    }
   ],
   "metadata": {}
  },
  {
   "cell_type": "code",
   "execution_count": 74,
   "source": [
    "re.findall(r'\\S', string_3)"
   ],
   "outputs": [
    {
     "output_type": "execute_result",
     "data": {
      "text/plain": [
       "['Q',\n",
       " 'u',\n",
       " 'e',\n",
       " 'a',\n",
       " 'F',\n",
       " 'o',\n",
       " 'r',\n",
       " 'ç',\n",
       " 'a',\n",
       " 'e',\n",
       " 's',\n",
       " 't',\n",
       " 'e',\n",
       " 'j',\n",
       " 'a',\n",
       " 'c',\n",
       " 'o',\n",
       " 'm',\n",
       " 'v',\n",
       " 'o',\n",
       " 'c',\n",
       " 'ê',\n",
       " '.']"
      ]
     },
     "metadata": {},
     "execution_count": 74
    }
   ],
   "metadata": {}
  },
  {
   "cell_type": "markdown",
   "source": [
    "## Digitos e não digito\r\n",
    "\r\n",
    "A expressão \\d corresponde a qualquer dígito entre [0-9].\r\n",
    "\r\n",
    "<center>\r\n",
    "\r\n",
    "![digit](https://jeoronei.github.io/regex/images/intro/intro_4.png)\r\n",
    "\r\n",
    "</center>\r\n",
    "\r\n",
    "Na imagem acima é possível visualizar que a nossa expressão regular `\"\\d\"` captura apenas os número (digitos entre 0 a 9).\r\n",
    "\r\n",
    "A expressão \\D corresponde a qualquer caractere exceto números [^0-9].\r\n",
    "\r\n",
    "<center>\r\n",
    "\r\n",
    "![non-digit](https://jeoronei.github.io/regex/images/intro/intro_5.png)\r\n",
    "\r\n",
    "</center>\r\n",
    "\r\n",
    "Diferente de `\"\\d\"`, `\"\\D\"` vai trazer todos os caracteres exceto números. Na imagem acima é possível verificar que `\"\\D\"` captura todos os caracteres exceto os números."
   ],
   "metadata": {}
  },
  {
   "cell_type": "code",
   "execution_count": 75,
   "source": [
    "string_4 = \"RegEx1234.\"\r\n",
    "re.findall(r'\\d', string_4)"
   ],
   "outputs": [
    {
     "output_type": "execute_result",
     "data": {
      "text/plain": [
       "['1', '2', '3', '4']"
      ]
     },
     "metadata": {},
     "execution_count": 75
    }
   ],
   "metadata": {}
  },
  {
   "cell_type": "code",
   "execution_count": 76,
   "source": [
    "re.findall(r'\\D', string_4)"
   ],
   "outputs": [
    {
     "output_type": "execute_result",
     "data": {
      "text/plain": [
       "['R', 'e', 'g', 'E', 'x', '.']"
      ]
     },
     "metadata": {},
     "execution_count": 76
    }
   ],
   "metadata": {}
  },
  {
   "cell_type": "markdown",
   "source": [
    "## Paravra (word) não palavra (non-word) caracteres\r\n",
    "\r\n",
    "A expressão \\w corresponderá a caracteres alfanuméricos (a-z, A-Z e 0-9) e sublinhado (_).\r\n",
    "\r\n",
    "<center>\r\n",
    "\r\n",
    "![word](https://jeoronei.github.io/regex/images/intro/intro_6.png)\r\n",
    "\r\n",
    "</center>\r\n",
    "\r\n",
    "Na imagem acima é possível visualizar que a nossa expressão regular `\"\\w\"` captura todos os número e letras da string.\r\n",
    "\r\n",
    "\\W captura qualquer caractere exceto os alfanuméricos (a-z, A-Z e 0-9) e sublinhado (_).\r\n",
    "\r\n",
    "<center>\r\n",
    "\r\n",
    "![non-word](https://jeoronei.github.io/regex/images/intro/intro_7.png)\r\n",
    "\r\n",
    "</center>\r\n",
    "\r\n",
    "Na imagem acima é possível verificar que `\"\\W\"` busca todos os caracteres exceto letras e números."
   ],
   "metadata": {}
  },
  {
   "cell_type": "code",
   "execution_count": 77,
   "source": [
    "string_5 = \"$$$ RegEx##1234##.\"\r\n",
    "re.findall(r'\\w', string_5)"
   ],
   "outputs": [
    {
     "output_type": "execute_result",
     "data": {
      "text/plain": [
       "['R', 'e', 'g', 'E', 'x', '1', '2', '3', '4']"
      ]
     },
     "metadata": {},
     "execution_count": 77
    }
   ],
   "metadata": {}
  },
  {
   "cell_type": "code",
   "execution_count": 78,
   "source": [
    "re.findall(r'\\W', string_5)"
   ],
   "outputs": [
    {
     "output_type": "execute_result",
     "data": {
      "text/plain": [
       "['$', '$', '$', ' ', '#', '#', '#', '#', '.']"
      ]
     },
     "metadata": {},
     "execution_count": 78
    }
   ],
   "metadata": {}
  },
  {
   "cell_type": "markdown",
   "source": [
    "## Inicio e fim de uma string\r\n",
    "\r\n",
    "O símbolo ^ corresponde à posição inicial de uma string.\r\n",
    "\r\n",
    "<center>\r\n",
    "\r\n",
    "![start](https://jeoronei.github.io/regex/images/intro/intro_10.png)\r\n",
    "\r\n",
    "</center>\r\n",
    "\r\n",
    "Na imagem acima é possível visualizar que a nossa expressão regular `\"^123\"` captura os números 123 no inicio da nossa string.\r\n",
    "\r\n",
    "<center>\r\n",
    "\r\n",
    "![all](https://jeoronei.github.io/regex/images/intro/intro_11.png)\r\n",
    "\r\n",
    "</center>\r\n",
    "\r\n",
    "Na imagem acima é possível visualizar que a nossa expressão regular `\"123\"` captura todas as ocorrencias de 123 na nossa string.\r\n",
    "\r\n",
    "<center>\r\n",
    "\r\n",
    "![end](https://jeoronei.github.io/regex/images/intro/intro_12.png)\r\n",
    "\r\n",
    "</center>\r\n",
    "\r\n",
    "Na imagem acima é possível visualizar que a nossa expressão regular `\"123$\"` captura os números 123 no final da nossa string."
   ],
   "metadata": {}
  },
  {
   "cell_type": "code",
   "execution_count": 79,
   "source": [
    "string_6 = \"123454123\"\r\n",
    "re.findall(r'^123', string_6)"
   ],
   "outputs": [
    {
     "output_type": "execute_result",
     "data": {
      "text/plain": [
       "['123']"
      ]
     },
     "metadata": {},
     "execution_count": 79
    }
   ],
   "metadata": {}
  },
  {
   "cell_type": "code",
   "execution_count": 80,
   "source": [
    "re.findall(r'123', string_6)"
   ],
   "outputs": [
    {
     "output_type": "execute_result",
     "data": {
      "text/plain": [
       "['123', '123']"
      ]
     },
     "metadata": {},
     "execution_count": 80
    }
   ],
   "metadata": {}
  },
  {
   "cell_type": "code",
   "execution_count": 81,
   "source": [
    "string_6 = \"123454123\"\r\n",
    "re.findall(r'123$', string_6)"
   ],
   "outputs": [
    {
     "output_type": "execute_result",
     "data": {
      "text/plain": [
       "['123']"
      ]
     },
     "metadata": {},
     "execution_count": 81
    }
   ],
   "metadata": {}
  },
  {
   "cell_type": "markdown",
   "source": [
    "## Exercícios para o primeiro módulo :)"
   ],
   "metadata": {}
  },
  {
   "cell_type": "code",
   "execution_count": 82,
   "source": [
    "# Exercicio 1\r\n",
    "# TASK: Você tem uma string S.\r\n",
    "# Sua tarefa é encontrar todas as palavras arara no texto.\r\n",
    "\r\n",
    "exercicio_1 = r\"_________\" # Sua Expressão Regular aqui"
   ],
   "outputs": [],
   "metadata": {}
  },
  {
   "cell_type": "code",
   "execution_count": 83,
   "source": [
    "# Exercicio 2\r\n",
    "# TASK: Você tem uma string S.\r\n",
    "# Sua tarefa é escrever uma expressão regular que encontre exatamente o texto: \"abc.def.ghi.jkl\"\r\n",
    "# Onde, cada variavel a,b,c,d,e,f,g,h,i,j,k,l pode ser qualquer caractere exceto uma nova linha.\r\n",
    "\r\n",
    "exercicio_2 = r\"_________\" # Sua Expressão Regular aqui"
   ],
   "outputs": [],
   "metadata": {}
  },
  {
   "cell_type": "code",
   "execution_count": 84,
   "source": [
    "# Exercicio 3\r\n",
    "# TASK: Você tem uma string S.\r\n",
    "# Sua tarefa é escrever uma expressão regular que encontre exatamente o texto xxXxxXxxxx\r\n",
    "# Onde, x (minusculo) é um número e X (maiusculo) pode ser qualquer caractere exceto um número.\r\n",
    "\r\n",
    "exercicio_3 = r\"_________\"\t# Sua Expressão Regular aqui"
   ],
   "outputs": [],
   "metadata": {}
  },
  {
   "cell_type": "code",
   "execution_count": 85,
   "source": [
    "# Exercicio 4\r\n",
    "# TASK: Você tem uma string S.\r\n",
    "# Sua tarefa é escrever uma expressão regular que encontre exatamente o texto xxxXxxxxxxxxxxXxxx\r\n",
    "# Onde x (minusculo) denota um caractere do tipo 'word' e X (maiusculo) pode ser qualquer caractere exceto um do tipo 'word'.\r\n",
    "\r\n",
    "exercicio_4 = r\"_________\"\t# Sua Expressão Regular aqui"
   ],
   "outputs": [],
   "metadata": {}
  },
  {
   "cell_type": "code",
   "execution_count": 86,
   "source": [
    "# Exercicio 5\r\n",
    "# TASK: Você tem uma string S.\r\n",
    "# Sua tarefa é escrever uma expressão regular que encontre exatamente o texto XXxXXxXX\r\n",
    "# Onde, x (minusculo) denota caracteres de espaço em branco e X (Maiusculo) denota caracteres que não sejam um espaço em branco.\r\n",
    "\r\n",
    "exercicio_5 = r\"_________\"\t# Sua Expressão Regular aqui"
   ],
   "outputs": [],
   "metadata": {}
  },
  {
   "cell_type": "code",
   "execution_count": 87,
   "source": [
    "# Exercicio 6\r\n",
    "# TASK: Você tem uma string S.\r\n",
    "# Sua tarefa é combinar o padrão Xxxxx.\r\n",
    "# Onde, x (minusculo) denota um word caracter e X (Maiusculo) denota caracteres de digito.\r\n",
    "\r\n",
    "exercicio_6 = r\"_________\"\t# Sua Expressão Regular aqui"
   ],
   "outputs": [],
   "metadata": {}
  },
  {
   "cell_type": "markdown",
   "source": [
    "# Aqui começa as validações dos exercicios\n",
    "Após escrever as expressões regulares, basta rodar os testes abaixo para validar se "
   ],
   "metadata": {}
  },
  {
   "cell_type": "code",
   "execution_count": 88,
   "source": [
    "test_String = 'Fala, arara loura. A arara loura falará.'\r\n",
    "\r\n",
    "assert len(re.findall(exercicio_1, test_String)) == 2, 'Exercicio 1 com erro: Esperado encontrar 2 elementos'\r\n",
    "\r\n",
    "print('Exercicio 1 correto')"
   ],
   "outputs": [
    {
     "output_type": "stream",
     "name": "stdout",
     "text": [
      "Exercicio 1 correto\n"
     ]
    }
   ],
   "metadata": {}
  },
  {
   "cell_type": "code",
   "execution_count": 89,
   "source": [
    "assert re.match(exercicio_2, '123.456.678.098') is not None, 'Exercicio 2 com erro'\r\n",
    "assert re.match(exercicio_2, '123..456.678.098') is None, 'Exercicio 2 com erro'\r\n",
    "assert re.match(exercicio_2, '1234.4564678.098') is None, 'Exercicio 2 com erro'\r\n",
    "\r\n",
    "print('Exercicio 2 correto')"
   ],
   "outputs": [
    {
     "output_type": "stream",
     "name": "stdout",
     "text": [
      "Exercicio 2 correto\n"
     ]
    }
   ],
   "metadata": {}
  },
  {
   "cell_type": "code",
   "execution_count": 90,
   "source": [
    "assert re.match(exercicio_3, '06-11-2015') is not None, 'Exercicio 3 com erro'\r\n",
    "assert re.match(exercicio_3, '06/11/2015') is not None, 'Exercicio 3 com erro'\r\n",
    "assert re.match(exercicio_3, '678.098-11') is None, 'Exercicio 3 com erro'\r\n",
    "assert re.match(exercicio_3, '--3---8098') is None, 'Exercicio 3 com erro'\r\n",
    "\r\n",
    "print('Exercicio 3 correto')"
   ],
   "outputs": [
    {
     "output_type": "stream",
     "name": "stdout",
     "text": [
      "Exercicio 3 correto\n"
     ]
    }
   ],
   "metadata": {}
  },
  {
   "cell_type": "code",
   "execution_count": 91,
   "source": [
    "assert bool(re.search(exercicio_4, 'www.hackerrank.com')), 'Exercicio 4 com erro'\r\n",
    "\r\n",
    "print('Exercicio 4 correto')"
   ],
   "outputs": [
    {
     "output_type": "stream",
     "name": "stdout",
     "text": [
      "Exercicio 4 correto\n"
     ]
    }
   ],
   "metadata": {}
  },
  {
   "cell_type": "code",
   "execution_count": 92,
   "source": [
    "assert bool(re.search(exercicio_5, '12 11 15')), 'Exercicio 5 com erro'\r\n",
    "\r\n",
    "print('Exercicio 5 correto')"
   ],
   "outputs": [
    {
     "output_type": "stream",
     "name": "stdout",
     "text": [
      "Exercicio 5 correto\n"
     ]
    }
   ],
   "metadata": {}
  },
  {
   "cell_type": "code",
   "execution_count": 93,
   "source": [
    "assert bool(re.search(exercicio_6, '0qwer.')), 'Exercicio 6 com erro'\r\n",
    "\r\n",
    "print('Exercicio 6 correto')"
   ],
   "outputs": [
    {
     "output_type": "stream",
     "name": "stdout",
     "text": [
      "Exercicio 6 correto\n"
     ]
    }
   ],
   "metadata": {}
  },
  {
   "cell_type": "markdown",
   "source": [
    "## Referencias\r\n",
    "\r\n",
    "\"Exercícios retidados do hackerrank\", https://www.hackerrank.com/"
   ],
   "metadata": {}
  }
 ],
 "metadata": {
  "orig_nbformat": 4,
  "language_info": {
   "name": "python",
   "version": "3.8.0",
   "mimetype": "text/x-python",
   "codemirror_mode": {
    "name": "ipython",
    "version": 3
   },
   "pygments_lexer": "ipython3",
   "nbconvert_exporter": "python",
   "file_extension": ".py"
  },
  "kernelspec": {
   "name": "python3",
   "display_name": "Python 3.8.0 64-bit"
  },
  "interpreter": {
   "hash": "87dff962632f26eb193d0fa4a17379a710745e247cab34ad5f6c3244b3a10823"
  }
 },
 "nbformat": 4,
 "nbformat_minor": 2
}