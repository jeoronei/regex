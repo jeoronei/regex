{
 "cells": [
  {
   "cell_type": "markdown",
   "source": [
    "# Introdução\n",
    "\n",
    "As expressões regulares são extremamente úteis na extração de informações de texto, como: código, arquivos de log, planilhas, documentos, etc.\n",
    "\n",
    "Podemos combinar uma string específica *X* em uma string de teste *S* criando nosso padrão regex *X*. Este é um dos padrões mais simples."
   ],
   "metadata": {}
  },
  {
   "cell_type": "markdown",
   "source": [
    "## Consultando uma palavra específica\r\n",
    "\r\n",
    "\r\n",
    "Uma expressão regular é uma sequência de caracteres que define um padrão de pesquisa. É usado principalmente para correspondência de padrões de string.\r\n",
    "\r\n",
    "<center>\r\n",
    "\r\n",
    "![intro_1](https://jeoronei.github.io/regex/images/intro/intro_1.png)\r\n",
    "\r\n",
    "</center>\r\n",
    "\r\n",
    "Na imagem acima é possível visualizar que a nossa expressão regular `\"de\"` encontrou 5 trechos na string que atendem a necessidade."
   ],
   "metadata": {}
  },
  {
   "cell_type": "markdown",
   "source": [
    "## Ponto\r\n",
    "\r\n",
    "O ponto (.) corresponde a qualquer caracter (exceto para uma nova linha), caso você queira identificar se a string possui um (.) deve se utilizar `\\.`.\r\n",
    "\r\n",
    "<center>\r\n",
    "\r\n",
    "![intro_2](https://jeoronei.github.io/regex/images/intro/intro_2.png)\r\n",
    "</br>\r\n",
    "![intro_3](https://jeoronei.github.io/regex/images/intro/intro_3.png)\r\n",
    "\r\n",
    "</center>\r\n",
    "\r\n",
    "Nas imagens acima é possível visualizar que a nossa expressão regular `\"A.C.D.D.\"` faz match apenas com o inicio da string, isso se deve pelo fato de (.) ser um caracter coringa, então naquele contexto ele assume o valor de \"+\" \"=\" e \"E\". "
   ],
   "metadata": {}
  },
  {
   "cell_type": "markdown",
   "source": [
    "## Espaço e não espaço\r\n",
    "\r\n",
    "\\s corresponde a qualquer caractere de espaço em branco [\\r \\n \\t \\f].\r\n",
    "\r\n",
    "<center>\r\n",
    "\r\n",
    "![space](https://jeoronei.github.io/regex/images/intro/intro_8.png)\r\n",
    "\r\n",
    "</center>\r\n",
    "\r\n",
    "Na imagem acima é possível visualizar que a nossa expressão regular `\"\\s\"` faz match apenas com os espaços da string.\r\n",
    "\r\n",
    "A expressão \\S corresponde a qualquer não espaços [^\\r \\n \\t \\f].\r\n",
    "\r\n",
    "<center>\r\n",
    "\r\n",
    "![non-space](https://jeoronei.github.io/regex/images/intro/intro_9.png)\r\n",
    "\r\n",
    "</center>\r\n",
    "\r\n",
    "Diferente de `\"\\s\"` `\"\\S\"` vai trazer todos os caracteres que não forem diferentes de \\r, \\n, \\t, \\f. Na imagem acima é possível verificar que `\"\\S\"` busca todos os caracteres exceto os espaços."
   ],
   "metadata": {}
  },
  {
   "cell_type": "markdown",
   "source": [
    "## Digitos e não digito\r\n",
    "\r\n",
    "A expressão \\d corresponde a qualquer dígito [0-9].\r\n",
    "\r\n",
    "<center>\r\n",
    "\r\n",
    "![digit](https://jeoronei.github.io/regex/images/intro/intro_4.png)\r\n",
    "\r\n",
    "</center>\r\n",
    "\r\n",
    "Na imagem acima é possível visualizar que a nossa expressão regular `\"\\d\"` faz match apenas com os número (digitos entre 0 a 9) da string.\r\n",
    "\r\n",
    "A expressão \\D corresponde a qualquer não digito [^0-9].\r\n",
    "\r\n",
    "<center>\r\n",
    "\r\n",
    "![non-digit](https://jeoronei.github.io/regex/images/intro/intro_5.png)\r\n",
    "\r\n",
    "</center>\r\n",
    "\r\n",
    "Diferente de `\"\\d\"` `\"\\D\"` vai trazer todos os caracteres que não são digitos. Na imagem acima é possível verificar que `\"\\D\"` busca todos os caracteres exceto os números."
   ],
   "metadata": {}
  },
  {
   "cell_type": "markdown",
   "source": [
    "## Paravra (word) não palavra (non-word) caracteres\r\n",
    "\r\n",
    "A expressão \\w corresponderá a qualquer caractere de palavra.\r\n",
    "Os caracteres de palavra incluem caracteres alfanuméricos (a-z, A-Z e 0-9) e sublinhados (_).\r\n",
    "\r\n",
    "<center>\r\n",
    "\r\n",
    "![word](https://jeoronei.github.io/regex/images/intro/intro_6.png)\r\n",
    "\r\n",
    "</center>\r\n",
    "\r\n",
    "Na imagem acima é possível visualizar que a nossa expressão regular `\"\\w\"` faz match com todos os número e letras da string.\r\n",
    "\r\n",
    "Caracteres que não são palavras incluem caracteres diferentes de caracteres alfanuméricos (a-z, A-Z e 0-9) e sublinhado (_).\r\n",
    "\r\n",
    "<center>\r\n",
    "\r\n",
    "![non-word](https://jeoronei.github.io/regex/images/intro/intro_7.png)\r\n",
    "\r\n",
    "</center>\r\n",
    "\r\n",
    "Na imagem acima é possível verificar que `\"\\D\"` busca todos os caracteres exceto letras e números."
   ],
   "metadata": {}
  },
  {
   "cell_type": "markdown",
   "source": [
    "## Inicio e fim de uma string\r\n",
    "\r\n",
    "O símbolo ^ corresponde à posição no início de uma string.\r\n",
    "\r\n",
    "<center>\r\n",
    "\r\n",
    "![start](https://jeoronei.github.io/regex/images/intro/intro_10.png)\r\n",
    "\r\n",
    "</center>\r\n",
    "\r\n",
    "Na imagem acima é possível visualizar que a nossa expressão regular `\"^123\"` faz match com os números 123 no inicio da nossa string.\r\n",
    "\r\n",
    "<center>\r\n",
    "\r\n",
    "![all](https://jeoronei.github.io/regex/images/intro/intro_11.png)\r\n",
    "\r\n",
    "</center>\r\n",
    "\r\n",
    "Na imagem acima é possível visualizar que a nossa expressão regular `\"123\"` faz match com os números 123 no inicio e no final da nossa string.\r\n",
    "\r\n",
    "<center>\r\n",
    "\r\n",
    "![end](https://jeoronei.github.io/regex/images/intro/intro_12.png)\r\n",
    "\r\n",
    "</center>\r\n",
    "\r\n",
    "Na imagem acima é possível visualizar que a nossa expressão regular `\"123$\"` faz match com os números 123 no inicio da nossa string."
   ],
   "metadata": {}
  },
  {
   "cell_type": "markdown",
   "source": [
    "## Exercícios para o primeiro módulo :)"
   ],
   "metadata": {}
  },
  {
   "cell_type": "code",
   "execution_count": 15,
   "source": [
    "import re"
   ],
   "outputs": [],
   "metadata": {}
  },
  {
   "cell_type": "code",
   "execution_count": 24,
   "source": [
    "# Exercicio 1\r\n",
    "# TASK: Você tem uma string S.\r\n",
    "# Sua tarefa é encontrar todas as palavras hackerrank no texto.\r\n",
    "\r\n",
    "def exercicio_1():\r\n",
    "    return r\"hackerrank\" # Sua Expressão Regular aqui"
   ],
   "outputs": [],
   "metadata": {}
  },
  {
   "cell_type": "code",
   "execution_count": 25,
   "source": [
    "# Exercicio 2\r\n",
    "# TASK: Você tem uma string S.\r\n",
    "# Your task is to write a regular expression that matches only and exactly strings of form:\r\n",
    "# Sua tarefa é escrever uma expressão regular que encontre exatamente o texto: \"abc.def.ghi.jkl\"\r\n",
    "# Onde, cada variavel a,b,c,d,e,f,g,h,i,j,k,l pode ser qualquer caracter exceto uma nova linha.\r\n",
    "\r\n",
    "def exercicio_2():\r\n",
    "    return r\"...\\....\\....\\....\" # Sua Expressão Regular aqui"
   ],
   "outputs": [],
   "metadata": {}
  },
  {
   "cell_type": "code",
   "execution_count": 33,
   "source": [
    "# Exercicio 3\r\n",
    "# TASK: Você tem uma string S.\r\n",
    "# Sua tarefa é combinar o padrão xxXxxXxxxx\r\n",
    "# Onde, x (minusculo) denota um caractere de dígito e X(maiusculo) denota um caractere diferente de dígito.\r\n",
    "\r\n",
    "def exercicio_3():\r\n",
    "    return r\"\\d\\d\\D\\d\\d\\D\\d\\d\\d\\d\"\t# Do not delete 'r'."
   ],
   "outputs": [],
   "metadata": {}
  },
  {
   "cell_type": "code",
   "execution_count": 40,
   "source": [
    "# Exercicio 4\r\n",
    "# TASK: \r\n",
    "# Sua tarefa é combinar o padrão xxxXxxxxxxxxxxXxxx\r\n",
    "# Onde x (minusculo) denota um 'word' caractere e X(maiusculo) denota um não word caractere.\r\n",
    "\r\n",
    "def exercicio_4():\r\n",
    "    return r\"\\w\\w\\w\\W\\w\\w\\w\\w\\w\\w\\w\\w\\w\\w\\W\\w\\w\\w\"\t# Do not delete 'r'."
   ],
   "outputs": [],
   "metadata": {}
  },
  {
   "cell_type": "code",
   "execution_count": 42,
   "source": [
    "# Exercicio 5\r\n",
    "# TASK: Você tem uma string S.\r\n",
    "# Sua tarefa é combinar o padrão XXxXXxXX\r\n",
    "# Onde, x (minusculo) denota caracteres de espaço em branco e X (Maiusculo) denota caracteres de espaço não em branco.\r\n",
    "\r\n",
    "def exercicio_5():\r\n",
    "    return r\"\\s\\s\\S\\s\\s\\S\\s\\s\"\t# Do not delete 'r'."
   ],
   "outputs": [],
   "metadata": {}
  },
  {
   "cell_type": "code",
   "execution_count": 47,
   "source": [
    "# Exercicio 6\r\n",
    "# TASK: Você tem uma string S.\r\n",
    "# Sua tarefa é combinar o padrão Xxxxx.\r\n",
    "# Onde, x (minusculo) denota um word caracter e X (Maiusculo) denota caracteres de digito.\r\n",
    "\r\n",
    "def exercicio_6():\r\n",
    "    return r\"^\\d\\w\\w\\w\\w\\.$\"\t# Do not delete 'r'."
   ],
   "outputs": [],
   "metadata": {}
  },
  {
   "cell_type": "markdown",
   "source": [
    "# Aqui começa as validações dos exercicios\n",
    "Após escrever as expressões regulares, basta rodar os testes abaixo para validar se "
   ],
   "metadata": {}
  },
  {
   "cell_type": "code",
   "execution_count": 27,
   "source": [
    "test_String = 'The hackerrank team is on a mission to flatten the world by restructuring the DNA of every company on the planet. We rank programmers based on their coding skills, helping companies source great programmers and reduce the time to hire. As a result, we are revolutionizing the way companies discover and evaluate talented engineers. The hackerrank platform is the destination for the best engineers to hone their skills and companies to find top engineers.'\r\n",
    "\r\n",
    "assert len(re.findall(exercicio_1(), test_String)) == 2, 'Exercicio 1 com erro: Esperado encontrar 2 elementos'\r\n",
    "\r\n",
    "print('Exercicio 1 correto')"
   ],
   "outputs": [
    {
     "output_type": "stream",
     "name": "stdout",
     "text": [
      "Exercicio 1 correto\n"
     ]
    }
   ],
   "metadata": {}
  },
  {
   "cell_type": "code",
   "execution_count": 29,
   "source": [
    "assert re.match(exercicio_2(), '123.456.678.098') is not None, 'Exercicio 2 com erro'\r\n",
    "assert re.match(exercicio_2(), '123..456.678.098') is None, 'Exercicio 2 com erro'\r\n",
    "assert re.match(exercicio_2(), '1234.4564678.098') is None, 'Exercicio 2 com erro'\r\n",
    "\r\n",
    "print('Exercicio 2 correto')"
   ],
   "outputs": [
    {
     "output_type": "stream",
     "name": "stdout",
     "text": [
      "Exercicio 2 correto\n"
     ]
    }
   ],
   "metadata": {}
  },
  {
   "cell_type": "code",
   "execution_count": 34,
   "source": [
    "assert re.match(exercicio_3(), '06-11-2015') is not None, 'Exercicio 3 com erro'\r\n",
    "assert re.match(exercicio_3(), '06/11/2015') is not None, 'Exercicio 3 com erro'\r\n",
    "assert re.match(exercicio_3(), '678.098-11') is None, 'Exercicio 3 com erro'\r\n",
    "assert re.match(exercicio_3(), '--3---8098') is None, 'Exercicio 3 com erro'\r\n",
    "\r\n",
    "print('Exercicio 3 correto')"
   ],
   "outputs": [
    {
     "output_type": "stream",
     "name": "stdout",
     "text": [
      "Exercicio 3 correto\n"
     ]
    }
   ],
   "metadata": {}
  },
  {
   "cell_type": "code",
   "execution_count": 41,
   "source": [
    "assert bool(re.search(exercicio_4(), 'www.hackerrank.com')), 'Exercicio 4 com erro'\r\n",
    "\r\n",
    "print('Exercicio 4 correto')"
   ],
   "outputs": [
    {
     "output_type": "stream",
     "name": "stdout",
     "text": [
      "Exercicio 4 correto\n"
     ]
    }
   ],
   "metadata": {}
  },
  {
   "cell_type": "code",
   "execution_count": 41,
   "source": [
    "assert bool(re.search(exercicio_5(), '12 11 15')), 'Exercicio 5 com erro'\r\n",
    "\r\n",
    "print('Exercicio 5 correto')"
   ],
   "outputs": [
    {
     "output_type": "stream",
     "name": "stdout",
     "text": [
      "Exercicio 4 correto\n"
     ]
    }
   ],
   "metadata": {}
  },
  {
   "cell_type": "code",
   "execution_count": 48,
   "source": [
    "assert bool(re.search(exercicio_6(), '0qwer.')), 'Exercicio 6 com erro'\r\n",
    "\r\n",
    "print('Exercicio 6 correto')"
   ],
   "outputs": [
    {
     "output_type": "stream",
     "name": "stdout",
     "text": [
      "Exercicio 6 correto\n"
     ]
    }
   ],
   "metadata": {}
  },
  {
   "cell_type": "markdown",
   "source": [
    "## Referencias\r\n",
    "\r\n",
    "\"Exercícios retidados do hackerrank\", https://www.hackerrank.com/"
   ],
   "metadata": {}
  }
 ],
 "metadata": {
  "orig_nbformat": 4,
  "language_info": {
   "name": "python",
   "version": "3.8.5",
   "mimetype": "text/x-python",
   "codemirror_mode": {
    "name": "ipython",
    "version": 3
   },
   "pygments_lexer": "ipython3",
   "nbconvert_exporter": "python",
   "file_extension": ".py"
  },
  "kernelspec": {
   "name": "python3",
   "display_name": "Python 3.8.5 64-bit"
  },
  "interpreter": {
   "hash": "916dbcbb3f70747c44a77c7bcd40155683ae19c65e1c03b4aa3499c5328201f1"
  }
 },
 "nbformat": 4,
 "nbformat_minor": 2
}