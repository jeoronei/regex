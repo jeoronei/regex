{
 "cells": [
  {
   "cell_type": "markdown",
   "source": [
    "# Classes\r\n",
    "\r\n",
    "A classe de caracteres [] corresponde a apenas um dos vários caracteres colocados entre colchetes.\r\n",
    "\r\n",
    "<center>\r\n",
    "\r\n",
    "![vowels](https://jeoronei.github.io/regex/images/classes/classes_1.png)\r\n",
    "\r\n",
    "</center>\r\n",
    "\r\n",
    "Na imagem acima é possível verificar que a expressão regular `[aeiou]` busca apenas as vogais na string.\r\n",
    "\r\n",
    "Além disso, se você usar um circunflexo (^) como o primeiro caractere dentro de uma classe de caractere, ele corresponderá a qualquer coisa que não esteja nesse intervalo. Por exemplo, corresponde a qualquer caractere que não seja um dígito no intervalo inclusivo de a. É importante observar que, quando usado fora de (imediatamente anterior) um caractere ou classe de caractere, o acento circunflexo corresponde ao primeiro caractere na string com aquele caractere ou conjunto de caracteres.\r\n",
    "\r\n",
    "<center>\r\n",
    "\r\n",
    "![non-vowels](https://jeoronei.github.io/regex/images/classes/classes_2.png)\r\n",
    "\r\n",
    "</center>\r\n",
    "\r\n",
    "Na imagem acima é possível verificar que a expressão regular `[^aeiou]` busca apenas as consoantes porque o caracter `^` tem a função de negar os caracteres na string.\r\n"
   ],
   "metadata": {}
  },
  {
   "cell_type": "markdown",
   "source": [
    "## Range de caracteres\r\n",
    "\r\n",
    "No contexto de uma expressão regular (RegEx), uma classe de caractere é um conjunto de caracteres entre colchetes que permite a correspondência de um caractere no conjunto.\r\n",
    "\r\n",
    "Um hífen (-) dentro de uma classe de caracteres especifica um intervalo de caracteres em que os operandos esquerdo e direito são os respectivos limites inferior e superior do intervalo. Por exemplo:\r\n",
    "\r\n",
    "`[a-z]` é equivalente a: `[abcdefghijklmnopqrstuvwxyz]`\r\n",
    "\r\n",
    "`[A-Z]` é equivalente a: `[ABCDEFGHIJKLMNOPQRSTUVWXYZ]`\r\n",
    "\r\n",
    "`[0-9]` é equivalente a: `[0123456789]`\r\n",
    "\r\n",
    "<center>\r\n",
    "\r\n",
    "![caracters_range](https://jeoronei.github.io/regex/images/classes/classes_3.png)\r\n",
    "\r\n",
    "</center>\r\n",
    "\r\n",
    "Na imagem acima é possível verificar que a expressão regular `[aeiou]` busca apenas as vogais na string.\r\n"
   ],
   "metadata": {}
  },
  {
   "cell_type": "markdown",
   "source": [
    "# Repetições\r\n",
    "## Quantidade especifica de repetições\r\n",
    "\r\n",
    "A notação {x} irá corresponder exatamente x repetição de caracter/classe/grupo.\r\n",
    "\r\n",
    "<center>\r\n",
    "\r\n",
    "![vowels](https://jeoronei.github.io/regex/images/classes/repetition_1.png)\r\n",
    "\r\n",
    "</center>\r\n",
    "\r\n",
    "Na imagem acima é possível notar que o padrão `a{3}` faz match apenas com uma sequencia de 3 `a`.\r\n",
    "\r\n",
    "A notação {x, y} irá combinar entre x e y (ambas inclusivas) repetição de caracter/classe/grupo.\r\n",
    "\r\n",
    "<center>\r\n",
    "\r\n",
    "![non-vowels](https://jeoronei.github.io/regex/images/classes/repetition_2.png)\r\n",
    "\r\n",
    "</center>\r\n",
    "\r\n",
    "Na imagem acima é possível notar que o padrão `a{3,4}` faz match com sequencias de 3 a 4 `a`.\r\n"
   ],
   "metadata": {}
  },
  {
   "cell_type": "markdown",
   "source": [
    "## Zero ou mais repetições\r\n",
    "\r\n",
    "A notação * irá corresponder a zero ou mais repetições de caracter/classe/grupo.\r\n",
    "\r\n",
    "<center>\r\n",
    "\r\n",
    "![vowels](https://jeoronei.github.io/regex/images/classes/repetition_3.png)\r\n",
    "\r\n",
    "</center>\r\n",
    "\r\n",
    "A notação + irá corresponder a uma ou mais repetições de caracter/classe/grupo.\r\n",
    "\r\n",
    "<center>\r\n",
    "\r\n",
    "![non-vowels](https://jeoronei.github.io/regex/images/classes/repetition_4.png)\r\n",
    "\r\n",
    "</center>"
   ],
   "metadata": {}
  },
  {
   "cell_type": "code",
   "execution_count": 1,
   "source": [
    "import re"
   ],
   "outputs": [],
   "metadata": {}
  },
  {
   "cell_type": "code",
   "execution_count": 4,
   "source": [
    "# Exercicio 1\r\n",
    "# TASK: Você tem uma string S.\r\n",
    "# Sua tarefa é escrever um regex que corresponda com as seguintes condições:\r\n",
    "\r\n",
    "# A string deve conter exatamente 6 caracteres\r\n",
    "# Primeiro caractere deve ser 1, 2 ou 3\r\n",
    "# Segundo caractere deveser 1, 2 ou 0\r\n",
    "# Terceiro caractere deve ser x, s ou 0\r\n",
    "# Quarto caractere deve ser 3, 0, A ou a\r\n",
    "# Quinto caractere deve ser x, s ou u\r\n",
    "# Sexto personagem deve ser . ou ,\r\n",
    "\r\n",
    "def exercicio_1():\r\n",
    "    return r\"^[123][120][xs0][30Aa][xsu][\\.,]$\" # Sua Expressão Regular aqui"
   ],
   "outputs": [],
   "metadata": {}
  },
  {
   "cell_type": "code",
   "execution_count": 9,
   "source": [
    "# Exercicio 2\r\n",
    "# TASK: Você tem uma string S.\r\n",
    "# Sua tarefa é escrever um regex que corresponda com as seguintes condições:\r\n",
    "\r\n",
    "# A string deve conter 5 ou mais caracteres\r\n",
    "# O primeiro caractere deve ser um caractere do alfabeto inglês minúsculas.\r\n",
    "# O segundo caractere deve ser um dígito positivo. Observe que consideramos zero nem positivo nem negativo.\r\n",
    "# O terceiro caractere não deve ser um caractere do alfabeto inglês em minúsculas.\r\n",
    "# O quarto caractere não deve ser uma letra maiúscula do alfabeto inglês.\r\n",
    "# O quinto caractere deve ser uma letra maiúscula do alfabeto inglês.\r\n",
    "\r\n",
    "def exercicio_2():\r\n",
    "    return r\"^[a-z][1-9][^a-z][^A-Z][A-Z]\" # Sua Expressão Regular aqui"
   ],
   "outputs": [],
   "metadata": {}
  },
  {
   "cell_type": "code",
   "execution_count": 11,
   "source": [
    "# Exercicio 3\r\n",
    "# TASK: Você tem uma string S.\r\n",
    "# Sua tarefa é escrever um regex que corresponda com as seguintes condições:\r\n",
    "\r\n",
    "# Deve começar com 1 ou 2.\r\n",
    "# Depois disso, deve ter 3 ou mais letras (maiúsculas e minúsculas).\r\n",
    "# Então, deve terminar com até 3 (.). Você pode terminar com 0 ou 3 símbolo (s)(.).\r\n",
    "\r\n",
    "def exercicio_3():\r\n",
    "    return r\"^[0-9]{1,2}[a-zA-Z]{3,}[\\.]{0,3}$\" # Sua Expressão Regular aqui"
   ],
   "outputs": [],
   "metadata": {}
  },
  {
   "cell_type": "code",
   "execution_count": 19,
   "source": [
    "# Exercicio 4\r\n",
    "# TASK: Você tem uma string S.\r\n",
    "# Sua tarefa é escrever um regex que corresponda com as seguintes condições:\r\n",
    "\r\n",
    "# Deve começar com 2 ou mais números.\r\n",
    "# Depois disso, deve ter 0 ou mais letras minúsculas.\r\n",
    "# A string deve terminar com 0 ou mais letras maiúsculas.\r\n",
    "\r\n",
    "def exercicio_4():\r\n",
    "    return r\"^[\\d]{2,}[a-z]*[A-Z]*$\" # Sua Expressão Regular aqui"
   ],
   "outputs": [],
   "metadata": {}
  },
  {
   "cell_type": "code",
   "execution_count": 23,
   "source": [
    "# Exercicio 5\r\n",
    "# TASK: Você tem uma string S.\r\n",
    "# Sua tarefa é escrever um regex que corresponda com as seguintes condições:\r\n",
    "\r\n",
    "# Deve começar com 1 ou mais números.\r\n",
    "# Depois disso, deve ter 1 ou mais letras maiúsculas.\r\n",
    "# deve terminar com 1 ou mais letras minúsculas.\r\n",
    "\r\n",
    "def exercicio_5():\r\n",
    "    return r\"^[\\d]+[A-Z]+[a-z]+$\" # Sua Expressão Regular aqui"
   ],
   "outputs": [],
   "metadata": {}
  },
  {
   "cell_type": "markdown",
   "source": [
    "# Aqui começa as validações dos exercicios\n",
    "Após escrever as expressões regulares, basta rodar os testes abaixo para validar se "
   ],
   "metadata": {}
  },
  {
   "cell_type": "code",
   "execution_count": 6,
   "source": [
    "assert bool(re.search(exercicio_1(), '1203x.')), 'Exercicio 1 com erro'\r\n",
    "\r\n",
    "print('Exercicio 1 correto')"
   ],
   "outputs": [
    {
     "output_type": "stream",
     "name": "stdout",
     "text": [
      "Exercicio 1 correto\n"
     ]
    }
   ],
   "metadata": {}
  },
  {
   "cell_type": "code",
   "execution_count": 10,
   "source": [
    "assert bool(re.search(exercicio_2(), 'h4CkR')), 'Exercicio 2 com erro'\r\n",
    "\r\n",
    "print('Exercicio 2 correto')"
   ],
   "outputs": [
    {
     "output_type": "stream",
     "name": "stdout",
     "text": [
      "Exercicio 2 correto\n"
     ]
    }
   ],
   "metadata": {}
  },
  {
   "cell_type": "code",
   "execution_count": 12,
   "source": [
    "assert bool(re.search(exercicio_3(), '3threeormorealphabets.')), 'Exercicio 3 com erro'\r\n",
    "\r\n",
    "print('Exercicio 3 correto')"
   ],
   "outputs": [
    {
     "output_type": "stream",
     "name": "stdout",
     "text": [
      "Exercicio 3 correto\n"
     ]
    }
   ],
   "metadata": {}
  },
  {
   "cell_type": "code",
   "execution_count": 20,
   "source": [
    "assert bool(re.search(exercicio_4(), '14')), 'Exercicio 4 com erro'\r\n",
    "\r\n",
    "print('Exercicio 4 correto')"
   ],
   "outputs": [
    {
     "output_type": "stream",
     "name": "stdout",
     "text": [
      "Exercicio 4 correto\n"
     ]
    }
   ],
   "metadata": {}
  },
  {
   "cell_type": "code",
   "execution_count": 24,
   "source": [
    "assert bool(re.search(exercicio_5(), '1Qa')), 'Exercicio 5 com erro'\r\n",
    "\r\n",
    "print('Exercicio 5 correto')"
   ],
   "outputs": [
    {
     "output_type": "stream",
     "name": "stdout",
     "text": [
      "Exercicio 5 correto\n"
     ]
    }
   ],
   "metadata": {}
  }
 ],
 "metadata": {
  "orig_nbformat": 4,
  "language_info": {
   "name": "python",
   "version": "3.8.5",
   "mimetype": "text/x-python",
   "codemirror_mode": {
    "name": "ipython",
    "version": 3
   },
   "pygments_lexer": "ipython3",
   "nbconvert_exporter": "python",
   "file_extension": ".py"
  },
  "kernelspec": {
   "name": "python3",
   "display_name": "Python 3.8.5 64-bit"
  },
  "interpreter": {
   "hash": "916dbcbb3f70747c44a77c7bcd40155683ae19c65e1c03b4aa3499c5328201f1"
  }
 },
 "nbformat": 4,
 "nbformat_minor": 2
}