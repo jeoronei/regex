{
 "cells": [
  {
   "cell_type": "code",
   "execution_count": 98,
   "source": [
    "import re"
   ],
   "outputs": [],
   "metadata": {}
  },
  {
   "cell_type": "markdown",
   "source": [
    "# Classes\r\n",
    "\r\n",
    "Classe de caracteres corresponde a uma sequencia de caracteres possiveis dentro da string, para utiliza-lo basta adicionar os caracteres desejados entre colchetes [].\r\n",
    "\r\n",
    "<center>\r\n",
    "\r\n",
    "![vowels](https://jeoronei.github.io/regex/images/classes/classes_1.png)\r\n",
    "\r\n",
    "</center>\r\n",
    "\r\n",
    "Na imagem acima é possível verificar que a expressão regular `[aeiou]` busca apenas as vogais na string.\r\n",
    "\r\n",
    "Além disso, se você usar um circunflexo (^) como o primeiro caractere dentro de uma classe de caractere, ele corresponderá a qualquer coisa que não esteja nesse intervalo.\r\n",
    "\r\n",
    "É importante observar que, quando o circunflexo (^) é usado fora dos colchetes, ele corresponde ao inicio da string .\r\n",
    "\r\n",
    "<center>\r\n",
    "\r\n",
    "![non-vowels](https://jeoronei.github.io/regex/images/classes/classes_2.png)\r\n",
    "\r\n",
    "</center>\r\n",
    "\r\n",
    "Na imagem acima é possível verificar que a expressão regular `[^aeiou]` busca apenas as consoantes porque o caractere `^` tem a função de negar os caracteres dentro da classe.\r\n"
   ],
   "metadata": {}
  },
  {
   "cell_type": "code",
   "execution_count": 99,
   "source": [
    "string = \"Selecione apenas as vogais\"\r\n",
    "\r\n",
    "re.findall(r'[aeiou]', string)"
   ],
   "outputs": [
    {
     "output_type": "execute_result",
     "data": {
      "text/plain": [
       "['e', 'e', 'i', 'o', 'e', 'a', 'e', 'a', 'a', 'o', 'a', 'i']"
      ]
     },
     "metadata": {},
     "execution_count": 99
    }
   ],
   "metadata": {}
  },
  {
   "cell_type": "code",
   "execution_count": 100,
   "source": [
    "\r\n",
    "re.findall(r'[^aeiou]', string)"
   ],
   "outputs": [
    {
     "output_type": "execute_result",
     "data": {
      "text/plain": [
       "['S', 'l', 'c', 'n', ' ', 'p', 'n', 's', ' ', 's', ' ', 'v', 'g', 's']"
      ]
     },
     "metadata": {},
     "execution_count": 100
    }
   ],
   "metadata": {}
  },
  {
   "cell_type": "markdown",
   "source": [
    "## Range de caracteres\r\n",
    "\r\n",
    "No contexto de uma expressão regular (RegEx), uma classe de caractere é um conjunto de caracteres entre colchetes.\r\n",
    "\r\n",
    "Um hífen (-) dentro de uma classe de caracteres especifica um intervalo de caracteres em que os operandos esquerdo e direito são os respectivos limites inferior e superior do intervalo. Por exemplo:\r\n",
    "\r\n",
    "`[a-z]` é equivalente a: `[abcdefghijklmnopqrstuvwxyz]`\r\n",
    "\r\n",
    "`[A-Z]` é equivalente a: `[ABCDEFGHIJKLMNOPQRSTUVWXYZ]`\r\n",
    "\r\n",
    "`[0-9]` é equivalente a: `[0123456789]`\r\n",
    "\r\n",
    "<center>\r\n",
    "\r\n",
    "![caracters_range](https://jeoronei.github.io/regex/images/classes/classes_3.png)\r\n",
    "\r\n",
    "</center>\r\n",
    "\r\n",
    "Na imagem acima é possível verificar que a expressão regular `[4-7i-o]` busca apenas os caracteres 4, 5, 6, 7, i, j, k, l, m, n, o na string.\r\n"
   ],
   "metadata": {}
  },
  {
   "cell_type": "code",
   "execution_count": 101,
   "source": [
    "string_2 = \"Selecione apenas as vogais\"\r\n",
    "\r\n",
    "re.findall(r'[a-i]', string_2)"
   ],
   "outputs": [
    {
     "output_type": "execute_result",
     "data": {
      "text/plain": [
       "['e', 'e', 'c', 'i', 'e', 'a', 'e', 'a', 'a', 'g', 'a', 'i']"
      ]
     },
     "metadata": {},
     "execution_count": 101
    }
   ],
   "metadata": {}
  },
  {
   "cell_type": "markdown",
   "source": [
    "# Repetições\r\n",
    "## Quantidade especifica de repetições\r\n",
    "\r\n",
    "A notação {x} irá capturar exatamente x repetição de caracter/classe/grupo.\r\n",
    "\r\n",
    "<center>\r\n",
    "\r\n",
    "![vowels](https://jeoronei.github.io/regex/images/classes/repetition_1.png)\r\n",
    "\r\n",
    "</center>\r\n",
    "\r\n",
    "Na imagem acima é possível notar que o padrão `a{3}` faz match apenas com uma sequencia de 3 `a`.\r\n",
    "\r\n",
    "A notação {x, y} irá capturar uma quantidade minima de caracteres igual a x ou uma quantidade maxima de caracteres igual y.\r\n",
    "\r\n",
    "<center>\r\n",
    "\r\n",
    "![non-vowels](https://jeoronei.github.io/regex/images/classes/repetition_2.png)\r\n",
    "\r\n",
    "</center>\r\n",
    "\r\n",
    "Na imagem acima é possível notar que o padrão `a{3,4}` faz match com sequencias de 3 a 4 `a`.\r\n"
   ],
   "metadata": {}
  },
  {
   "cell_type": "code",
   "execution_count": 102,
   "source": [
    "string_3 = \"abaabaaabaaaabaaaaa\"\r\n",
    "\r\n",
    "re.findall(r'a{3}', string_3)"
   ],
   "outputs": [
    {
     "output_type": "execute_result",
     "data": {
      "text/plain": [
       "['aaa', 'aaa', 'aaa']"
      ]
     },
     "metadata": {},
     "execution_count": 102
    }
   ],
   "metadata": {}
  },
  {
   "cell_type": "code",
   "execution_count": 103,
   "source": [
    "re.findall(r'a{3,4}', string_3)"
   ],
   "outputs": [
    {
     "output_type": "execute_result",
     "data": {
      "text/plain": [
       "['aaa', 'aaaa', 'aaaa']"
      ]
     },
     "metadata": {},
     "execution_count": 103
    }
   ],
   "metadata": {}
  },
  {
   "cell_type": "markdown",
   "source": [
    "## Zero ou mais repetições\r\n",
    "\r\n",
    "A notação * irá corresponder a zero ou mais repetições de caracter/classe/grupo. O * é equivalente a {0,}\r\n",
    "\r\n",
    "<center>\r\n",
    "\r\n",
    "![vowels](https://jeoronei.github.io/regex/images/classes/repetition_3.png)\r\n",
    "\r\n",
    "</center>\r\n",
    "\r\n",
    "## Uma ou mais repetições\r\n",
    "\r\n",
    "A notação + irá corresponder a uma ou mais repetições de caracter/classe/grupo. O * é equivalente a {1,}\r\n",
    "\r\n",
    "<center>\r\n",
    "\r\n",
    "![non-vowels](https://jeoronei.github.io/regex/images/classes/repetition_4.png)\r\n",
    "\r\n",
    "</center>"
   ],
   "metadata": {}
  },
  {
   "cell_type": "code",
   "execution_count": 104,
   "source": [
    "string_4 = \"as\"\r\n",
    "string_5 = \"abbbbbs\"\r\n",
    "\r\n",
    "re.findall(r'ab*s', string_4)"
   ],
   "outputs": [
    {
     "output_type": "execute_result",
     "data": {
      "text/plain": [
       "['as']"
      ]
     },
     "metadata": {},
     "execution_count": 104
    }
   ],
   "metadata": {}
  },
  {
   "cell_type": "code",
   "execution_count": 105,
   "source": [
    "re.findall(r'ab*s', string_5)"
   ],
   "outputs": [
    {
     "output_type": "execute_result",
     "data": {
      "text/plain": [
       "['abbbbbs']"
      ]
     },
     "metadata": {},
     "execution_count": 105
    }
   ],
   "metadata": {}
  },
  {
   "cell_type": "code",
   "execution_count": 106,
   "source": [
    "re.findall(r'ab+s', string_4)"
   ],
   "outputs": [
    {
     "output_type": "execute_result",
     "data": {
      "text/plain": [
       "[]"
      ]
     },
     "metadata": {},
     "execution_count": 106
    }
   ],
   "metadata": {}
  },
  {
   "cell_type": "code",
   "execution_count": 107,
   "source": [
    "re.findall(r'ab+s', string_5)"
   ],
   "outputs": [
    {
     "output_type": "execute_result",
     "data": {
      "text/plain": [
       "['abbbbbs']"
      ]
     },
     "metadata": {},
     "execution_count": 107
    }
   ],
   "metadata": {}
  },
  {
   "cell_type": "code",
   "execution_count": 108,
   "source": [
    "# Exercicio 1\r\n",
    "# TASK: Você tem uma string S.\r\n",
    "# Sua tarefa é escrever um regex que atenda as seguintes condições:\r\n",
    "\r\n",
    "# A string deve conter exatamente 6 caracteres\r\n",
    "# Primeiro caractere deve ser 1, 2 ou 3\r\n",
    "# Segundo caractere deveser 1, 2 ou 0\r\n",
    "# Terceiro caractere deve ser x, s ou 0\r\n",
    "# Quarto caractere deve ser 3, 0, A ou a\r\n",
    "# Quinto caractere deve ser x, s ou u\r\n",
    "# Sexto personagem deve ser . ou ,\r\n",
    "\r\n",
    "exercicio_1 = r\"____________\" # Sua Expressão Regular aqui"
   ],
   "outputs": [],
   "metadata": {}
  },
  {
   "cell_type": "code",
   "execution_count": 109,
   "source": [
    "# Exercicio 2\r\n",
    "# TASK: Você tem uma string S.\r\n",
    "# Sua tarefa é escrever um regex que corresponda com as seguintes condições:\r\n",
    "\r\n",
    "# A string deve conter 5 ou mais caracteres\r\n",
    "# O primeiro caractere deve ser uma letra minúsculas.\r\n",
    "# O segundo caractere deve ser um número positivo. 0 não é considerado positivo nem negativo.\r\n",
    "# O terceiro caractere não deve ser uma letra minúsculas.\r\n",
    "# O quarto caractere não deve ser uma letra maiúscula.\r\n",
    "# O quinto caractere deve ser uma letra maiúscula.\r\n",
    "\r\n",
    "exercicio_2 = r\"____________\" # Sua Expressão Regular aqui"
   ],
   "outputs": [],
   "metadata": {}
  },
  {
   "cell_type": "code",
   "execution_count": 110,
   "source": [
    "# Exercicio 3\r\n",
    "# TASK: Você tem uma string S.\r\n",
    "# Sua tarefa é escrever um regex que corresponda com as seguintes condições:\r\n",
    "\r\n",
    "# Deve começar com 1 ou 2.\r\n",
    "# Depois disso, deve ter 3 ou mais letras (maiúsculas e minúsculas).\r\n",
    "# Então, deve terminar com até 3 (.). Você pode terminar com 0 ou 3 (.).\r\n",
    "\r\n",
    "exercicio_3 = r\"____________\" # Sua Expressão Regular aqui"
   ],
   "outputs": [],
   "metadata": {}
  },
  {
   "cell_type": "code",
   "execution_count": 111,
   "source": [
    "# Exercicio 4\r\n",
    "# TASK: Você tem uma string S.\r\n",
    "# Sua tarefa é escrever um regex que corresponda com as seguintes condições:\r\n",
    "\r\n",
    "# Deve começar com 2 ou mais números.\r\n",
    "# Depois disso, deve ter 0 ou mais letras minúsculas.\r\n",
    "# A string deve terminar com 0 ou mais letras maiúsculas.\r\n",
    "\r\n",
    "exercicio_4 = r\"____________\" # Sua Expressão Regular aqui"
   ],
   "outputs": [],
   "metadata": {}
  },
  {
   "cell_type": "code",
   "execution_count": 112,
   "source": [
    "# Exercicio 5\r\n",
    "# TASK: Você tem uma string S.\r\n",
    "# Sua tarefa é escrever um regex que corresponda com as seguintes condições:\r\n",
    "\r\n",
    "# Deve começar com 1 ou mais números.\r\n",
    "# Depois disso, deve ter 1 ou mais letras maiúsculas.\r\n",
    "# deve terminar com 1 ou mais letras minúsculas.\r\n",
    "\r\n",
    "exercicio_5 = r\"____________\" # Sua Expressão Regular aqui"
   ],
   "outputs": [],
   "metadata": {}
  },
  {
   "cell_type": "code",
   "execution_count": 113,
   "source": [
    "# Exercicio 6\r\n",
    "# TASK: Você tem uma string S.\r\n",
    "# Sua tarefa é escrever um regex que valide se uma string é um cpf valido\r\n",
    "# Para o cpf utilize o padrão 123.456.789-47\r\n",
    "\r\n",
    "exercicio_6 = r\"____________\" # Sua Expressão Regular aqui"
   ],
   "outputs": [],
   "metadata": {}
  },
  {
   "cell_type": "code",
   "execution_count": 114,
   "source": [
    "# Exercicio 7\r\n",
    "# TASK: Você tem uma string S.\r\n",
    "# Sua tarefa é escrever um regex que valide se um email é valido\r\n",
    "# Considerando um e-mail no formato username@websitename.extension ele deve seguir as seguintes regras:\r\n",
    "# O nome de usuário deve conter 3 ou mais caracteres do tipo letras, dígitos, - e _.\r\n",
    "# O nome do site deve conter 3 ou mais caracteres do tipo letras (maiusculas e minusculas) e dígitos.\r\n",
    "# A extensão pode conter apenas letras e deve possuir de 2 a 3 caracteres apenas.\r\n",
    "\r\n",
    "exercicio_7 = r\"____________\" # Sua Expressão Regular aqui"
   ],
   "outputs": [],
   "metadata": {}
  },
  {
   "cell_type": "markdown",
   "source": [
    "# Aqui começa as validações dos exercicios\r\n",
    "Após escrever as expressões regulares, basta rodar os testes abaixo para validar se "
   ],
   "metadata": {}
  },
  {
   "cell_type": "code",
   "execution_count": 115,
   "source": [
    "assert bool(re.search(exercicio_1, '1203x.')), 'Exercicio 1 com erro'\r\n",
    "\r\n",
    "print('Exercicio 1 correto')"
   ],
   "outputs": [
    {
     "output_type": "error",
     "ename": "AssertionError",
     "evalue": "Exercicio 1 com erro",
     "traceback": [
      "\u001b[1;31m---------------------------------------------------------------------------\u001b[0m",
      "\u001b[1;31mAssertionError\u001b[0m                            Traceback (most recent call last)",
      "\u001b[1;32m<ipython-input-115-73f555d7ba33>\u001b[0m in \u001b[0;36m<module>\u001b[1;34m\u001b[0m\n\u001b[1;32m----> 1\u001b[1;33m \u001b[1;32massert\u001b[0m \u001b[0mbool\u001b[0m\u001b[1;33m(\u001b[0m\u001b[0mre\u001b[0m\u001b[1;33m.\u001b[0m\u001b[0msearch\u001b[0m\u001b[1;33m(\u001b[0m\u001b[0mexercicio_1\u001b[0m\u001b[1;33m,\u001b[0m \u001b[1;34m'1203x.'\u001b[0m\u001b[1;33m)\u001b[0m\u001b[1;33m)\u001b[0m\u001b[1;33m,\u001b[0m \u001b[1;34m'Exercicio 1 com erro'\u001b[0m\u001b[1;33m\u001b[0m\u001b[1;33m\u001b[0m\u001b[0m\n\u001b[0m\u001b[0;32m      2\u001b[0m \u001b[1;33m\u001b[0m\u001b[0m\n\u001b[0;32m      3\u001b[0m \u001b[0mprint\u001b[0m\u001b[1;33m(\u001b[0m\u001b[1;34m'Exercicio 1 correto'\u001b[0m\u001b[1;33m)\u001b[0m\u001b[1;33m\u001b[0m\u001b[1;33m\u001b[0m\u001b[0m\n",
      "\u001b[1;31mAssertionError\u001b[0m: Exercicio 1 com erro"
     ]
    }
   ],
   "metadata": {}
  },
  {
   "cell_type": "code",
   "execution_count": null,
   "source": [
    "assert bool(re.search(exercicio_2, 'h4CkR')), 'Exercicio 2 com erro'\r\n",
    "\r\n",
    "print('Exercicio 2 correto')"
   ],
   "outputs": [
    {
     "output_type": "stream",
     "name": "stdout",
     "text": [
      "Exercicio 2 correto\n"
     ]
    }
   ],
   "metadata": {}
  },
  {
   "cell_type": "code",
   "execution_count": null,
   "source": [
    "assert bool(re.search(exercicio_3, '3threeormorealphabets.')), 'Exercicio 3 com erro'\r\n",
    "\r\n",
    "print('Exercicio 3 correto')"
   ],
   "outputs": [
    {
     "output_type": "stream",
     "name": "stdout",
     "text": [
      "Exercicio 3 correto\n"
     ]
    }
   ],
   "metadata": {}
  },
  {
   "cell_type": "code",
   "execution_count": null,
   "source": [
    "assert bool(re.search(exercicio_4, '14')), 'Exercicio 4 com erro'\r\n",
    "\r\n",
    "print('Exercicio 4 correto')"
   ],
   "outputs": [
    {
     "output_type": "stream",
     "name": "stdout",
     "text": [
      "Exercicio 4 correto\n"
     ]
    }
   ],
   "metadata": {}
  },
  {
   "cell_type": "code",
   "execution_count": null,
   "source": [
    "assert bool(re.search(exercicio_5, '1Qa')), 'Exercicio 5 com erro'\r\n",
    "\r\n",
    "print('Exercicio 5 correto')"
   ],
   "outputs": [
    {
     "output_type": "stream",
     "name": "stdout",
     "text": [
      "Exercicio 5 correto\n"
     ]
    }
   ],
   "metadata": {}
  },
  {
   "cell_type": "code",
   "execution_count": null,
   "source": [
    "assert bool(re.search(exercicio_6, '123.456.789-01')), 'Exercicio 6 com erro'\r\n",
    "assert bool(re.search(exercicio_6, '123,456.789-01')) == False, 'Exercicio 6 com erro'\r\n",
    "assert bool(re.search(exercicio_6, '1234.567.89-01')) == False, 'Exercicio 6 com erro'\r\n",
    "assert bool(re.search(exercicio_6, '12345678901')) == False, 'Exercicio 6 com erro'\r\n",
    "\r\n",
    "print('Exercicio 6 correto')"
   ],
   "outputs": [
    {
     "output_type": "stream",
     "name": "stdout",
     "text": [
      "Exercicio 6 correto\n"
     ]
    }
   ],
   "metadata": {}
  },
  {
   "cell_type": "code",
   "execution_count": null,
   "source": [
    "assert bool(re.search(exercicio_7, 'jeoronei@hotmail.com')), 'Exercicio 7 com erro'\r\n",
    "assert bool(re.search(exercicio_7, 'jeoro+nei@hotmail.com')) == False, 'Exercicio 7 com erro'\r\n",
    "assert bool(re.search(exercicio_7, 'jeoronei@hotmail.')) == False, 'Exercicio 7 com erro'\r\n",
    "\r\n",
    "print('Exercicio 7 correto')"
   ],
   "outputs": [
    {
     "output_type": "stream",
     "name": "stdout",
     "text": [
      "Exercicio 7 correto\n"
     ]
    }
   ],
   "metadata": {}
  },
  {
   "cell_type": "markdown",
   "source": [
    "## Referencias\r\n",
    "\r\n",
    "\"Exercícios retidados do hackerrank\", https://www.hackerrank.com/"
   ],
   "metadata": {}
  },
  {
   "cell_type": "markdown",
   "source": [],
   "metadata": {}
  }
 ],
 "metadata": {
  "orig_nbformat": 4,
  "language_info": {
   "name": "python",
   "version": "3.8.0",
   "mimetype": "text/x-python",
   "codemirror_mode": {
    "name": "ipython",
    "version": 3
   },
   "pygments_lexer": "ipython3",
   "nbconvert_exporter": "python",
   "file_extension": ".py"
  },
  "kernelspec": {
   "name": "python3",
   "display_name": "Python 3.8.0 64-bit"
  },
  "interpreter": {
   "hash": "87dff962632f26eb193d0fa4a17379a710745e247cab34ad5f6c3244b3a10823"
  }
 },
 "nbformat": 4,
 "nbformat_minor": 2
}